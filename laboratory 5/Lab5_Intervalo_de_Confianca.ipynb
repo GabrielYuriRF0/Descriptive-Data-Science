{
  "cells": [
    {
      "cell_type": "markdown",
      "metadata": {
        "_uuid": "054f0cca3061be223d76116cb8544b598eb5a297",
        "id": "2WeN1QujkKWQ"
      },
      "source": [
        "# Lab - Intervalo de Confiança\n",
        "\n",
        "* A partir o dataset IRIS (já trabalhado na aula), gere um novo dataset contendo apenas 1 das 4 medidas disponíveis no dataset original (Sepal Lentgh, Setal Width, Petal Length, Petal Width). Além disso, remova todas as linhas referentes a um dos tipos de flor e mantenha apenas 2 tipos ao invés dos 3 contidos no datset original (Setosa, Versicolour e Virginica). Ou seja, seu dataset conterá 1 coluna e 100 linhas (há 50 amostras de cada tipo de flor no datset original).\n",
        "\n",
        "* Usando bootstrap para gerar o intervalo de confiança, calcule a diferença entre as médias para os dois tipos de flor.\n",
        "\n",
        "* Informe o seu resultado em uma frase do tipo: \"Com 95% de confiança, podemos afirmar que, em média, os cachorros são mais altos do que os gatos em 20,3cm, com intervalo de confiança de 17,2cm a 23,5cm\".\n",
        "\n",
        "* **Use o dataset inteiro** considerando que ele representa toda a amostra que você conseguiu coletar. Observe que isso é diferente do que fizemos em aula, onde consideramos que as 150 flores eram todas as existentes e nossa amostra continha uma quantidade menor (20, 30, por exemplo).\n",
        "\n",
        "* Dependendo da forma como você pretenda resolver o problema, você pode ter interesse em alterar a função bootstrap disponibilizada abaixo. Fique à vontade para gerar variações dessa função se assim desejar.\n",
        "\n"
      ]
    },
    {
      "cell_type": "markdown",
      "metadata": {
        "_uuid": "fd0fc89fe26333add074845d0629b52ae828584c",
        "id": "YDYyf7RxkKWT"
      },
      "source": [
        "## Imports."
      ]
    },
    {
      "cell_type": "code",
      "execution_count": null,
      "metadata": {
        "_cell_guid": "b1076dfc-b9ad-4769-8c92-a6c4dae69d19",
        "_kg_hide-input": false,
        "_uuid": "8f2839f25d086af736a60e9eeb907d3b93b6e0e5",
        "id": "NzGss24lkKWU"
      },
      "outputs": [],
      "source": [
        "import numpy as np\n",
        "import pandas as pd\n",
        "import matplotlib.pyplot as plt\n",
        "from sklearn.utils import resample"
      ]
    },
    {
      "cell_type": "markdown",
      "source": [
        "## Carregando o Datset Original"
      ],
      "metadata": {
        "id": "Mk-7aJNE3DK6"
      }
    },
    {
      "cell_type": "code",
      "source": [
        "from sklearn import datasets\n",
        "iris = datasets.load_iris()"
      ],
      "metadata": {
        "id": "gY__Y6B6wDQ-"
      },
      "execution_count": null,
      "outputs": []
    },
    {
      "cell_type": "code",
      "source": [
        "iris.data[49]"
      ],
      "metadata": {
        "id": "c03oWNin3a6D",
        "colab": {
          "base_uri": "https://localhost:8080/"
        },
        "outputId": "72913c99-9cad-467f-d630-cd7cb0b6eacd"
      },
      "execution_count": null,
      "outputs": [
        {
          "output_type": "execute_result",
          "data": {
            "text/plain": [
              "array([5. , 3.3, 1.4, 0.2])"
            ]
          },
          "metadata": {},
          "execution_count": 44
        }
      ]
    },
    {
      "cell_type": "code",
      "source": [
        "iris.feature_names"
      ],
      "metadata": {
        "id": "p1LxNt_c3aJ-",
        "colab": {
          "base_uri": "https://localhost:8080/"
        },
        "outputId": "b073e4c7-adf2-40b9-949c-68c4737c6d67"
      },
      "execution_count": null,
      "outputs": [
        {
          "output_type": "execute_result",
          "data": {
            "text/plain": [
              "['sepal length (cm)',\n",
              " 'sepal width (cm)',\n",
              " 'petal length (cm)',\n",
              " 'petal width (cm)']"
            ]
          },
          "metadata": {},
          "execution_count": 7
        }
      ]
    },
    {
      "cell_type": "code",
      "source": [
        "iris.target"
      ],
      "metadata": {
        "id": "mEAk0wUK5jv4",
        "colab": {
          "base_uri": "https://localhost:8080/"
        },
        "outputId": "c664ca9c-91d4-4d0a-dedb-fcb52528dd47"
      },
      "execution_count": null,
      "outputs": [
        {
          "output_type": "execute_result",
          "data": {
            "text/plain": [
              "array([0, 0, 0, 0, 0, 0, 0, 0, 0, 0, 0, 0, 0, 0, 0, 0, 0, 0, 0, 0, 0, 0,\n",
              "       0, 0, 0, 0, 0, 0, 0, 0, 0, 0, 0, 0, 0, 0, 0, 0, 0, 0, 0, 0, 0, 0,\n",
              "       0, 0, 0, 0, 0, 0, 1, 1, 1, 1, 1, 1, 1, 1, 1, 1, 1, 1, 1, 1, 1, 1,\n",
              "       1, 1, 1, 1, 1, 1, 1, 1, 1, 1, 1, 1, 1, 1, 1, 1, 1, 1, 1, 1, 1, 1,\n",
              "       1, 1, 1, 1, 1, 1, 1, 1, 1, 1, 1, 1, 2, 2, 2, 2, 2, 2, 2, 2, 2, 2,\n",
              "       2, 2, 2, 2, 2, 2, 2, 2, 2, 2, 2, 2, 2, 2, 2, 2, 2, 2, 2, 2, 2, 2,\n",
              "       2, 2, 2, 2, 2, 2, 2, 2, 2, 2, 2, 2, 2, 2, 2, 2, 2, 2])"
            ]
          },
          "metadata": {},
          "execution_count": 8
        }
      ]
    },
    {
      "cell_type": "code",
      "source": [
        "iris.target_names"
      ],
      "metadata": {
        "id": "eD62hwOk51K2",
        "colab": {
          "base_uri": "https://localhost:8080/"
        },
        "outputId": "746ae0dc-f20d-45e5-c810-53daf66f718c"
      },
      "execution_count": null,
      "outputs": [
        {
          "output_type": "execute_result",
          "data": {
            "text/plain": [
              "array(['setosa', 'versicolor', 'virginica'], dtype='<U10')"
            ]
          },
          "metadata": {},
          "execution_count": 12
        }
      ]
    },
    {
      "cell_type": "markdown",
      "source": [
        "## Gerando o novo Dataset"
      ],
      "metadata": {
        "id": "fielTImn3NQ9"
      }
    },
    {
      "cell_type": "code",
      "source": [
        "# seu código\n",
        "setosaData = np.array([])\n",
        "versicolourData = np.array([])\n",
        "\n",
        "for i in range(0,100):\n",
        "  if (i <= 49):\n",
        "    setosaData = np.append(setosaData,iris.data[i][0])\n",
        "\n",
        "  else:\n",
        "    versicolourData = np.append(versicolourData,iris.data[i][0])\n",
        "\n",
        "\n",
        "def func(data1,data2):\n",
        "  return np.mean(data1 - data2)\n",
        "\n"
      ],
      "metadata": {
        "id": "GI1CFBWD3gMT"
      },
      "execution_count": null,
      "outputs": []
    },
    {
      "cell_type": "markdown",
      "source": [
        "## Definição da função de Bootstrap\n",
        "\n",
        "Dependendo da forma como você pretenda resolver o problema, você pode ter interesse em alterar a função bootstrap disponibilizada abaixo. Fique à vontade para gerar variações dessa função se assim desejar."
      ],
      "metadata": {
        "id": "rmwtyT063tTV"
      }
    },
    {
      "cell_type": "code",
      "source": [
        "def bootstrap(data, data2, func, alpha=0.95, n_rep=1000):\n",
        "\n",
        "  theta_hat_error_list = list()\n",
        "  theta = func(data,data2)\n",
        "\n",
        "  # Resampling\n",
        "  for i in range(0,n_rep):\n",
        "    dataX = resample(data, replace=True)\n",
        "    dataY = resample(data2, replace=True)\n",
        "    theta_hat_error = (func(dataX,dataY)) - theta\n",
        "    theta_hat_error_list.append(theta_hat_error)\n",
        "\n",
        "  # Percentiles\n",
        "  lower_p = ((1.0-alpha)/2.0) * 100\n",
        "  upper_p = (alpha+((1.0-alpha)/2.0)) * 100\n",
        "\n",
        "  # Lower and Upper Bounds\n",
        "  lower_value = np.percentile(theta_hat_error_list, lower_p)\n",
        "  upper_value = np.percentile(theta_hat_error_list, upper_p)\n",
        "\n",
        "  lower_limit = theta+lower_value\n",
        "  upper_limit = theta+upper_value\n",
        "\n",
        "  return theta, lower_limit, upper_limit"
      ],
      "metadata": {
        "id": "uUBf66QHwez3"
      },
      "execution_count": null,
      "outputs": []
    },
    {
      "cell_type": "markdown",
      "metadata": {
        "_uuid": "5b838f778af8cb2740c6d54e5bb6608223ab54f4",
        "id": "9DstiDfAkKWW"
      },
      "source": [
        "## Análise das diferenças entre os dois tipos de flor escolhidos.\n",
        "\n"
      ]
    },
    {
      "cell_type": "code",
      "source": [
        "# Seu código\n",
        "theta_bs, lower_limit, upper_limit = bootstrap(setosaData, versicolourData, func)\n",
        "\n",
        "print(f'Com 95% de confiança, podemos afirmar que, em média, o tamanho das pétalas da espécie Versicolour é maior do que as pétalas da espécie Setosa em {abs(theta_bs):.3f}cm, com o intervalo de confiança entre {abs(lower_limit):.3f}cm a {abs(upper_limit):.3f}cm')\n",
        "\n"
      ],
      "metadata": {
        "colab": {
          "base_uri": "https://localhost:8080/"
        },
        "id": "dOSkWb_flO9x",
        "outputId": "1f377235-4206-4864-e97e-c8a25b63fee0"
      },
      "execution_count": null,
      "outputs": [
        {
          "output_type": "stream",
          "name": "stdout",
          "text": [
            "Com 95% de confiança, podemos afirmar que, em média, o tamanho das pétalas da espécie Versicolour é maior do que as pétalas da espécie Setosa em 0.930 cm, com o intervalo de confiança entre 1.106 cm a 0.760 cm\n"
          ]
        }
      ]
    }
  ],
  "metadata": {
    "kernelspec": {
      "display_name": "Python 3",
      "language": "python",
      "name": "python3"
    },
    "language_info": {
      "codemirror_mode": {
        "name": "ipython",
        "version": 3
      },
      "file_extension": ".py",
      "mimetype": "text/x-python",
      "name": "python",
      "nbconvert_exporter": "python",
      "pygments_lexer": "ipython3",
      "version": "3.6.6"
    },
    "colab": {
      "provenance": []
    }
  },
  "nbformat": 4,
  "nbformat_minor": 0
}