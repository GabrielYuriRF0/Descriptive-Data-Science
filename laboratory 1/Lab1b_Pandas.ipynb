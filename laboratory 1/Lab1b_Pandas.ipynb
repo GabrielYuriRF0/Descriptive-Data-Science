{
  "nbformat": 4,
  "nbformat_minor": 0,
  "metadata": {
    "colab": {
      "provenance": [],
      "collapsed_sections": [
        "DlzRz_xw4o55"
      ]
    },
    "kernelspec": {
      "name": "python3",
      "display_name": "Python 3"
    }
  },
  "cells": [
    {
      "cell_type": "markdown",
      "metadata": {
        "id": "rHLcriKWLRe4"
      },
      "source": [
        "# Introdução ao Pandas (Parte 2)"
      ]
    },
    {
      "cell_type": "markdown",
      "metadata": {
        "id": "0eDvqelTCQA6"
      },
      "source": [
        "## Imports"
      ]
    },
    {
      "cell_type": "code",
      "metadata": {
        "id": "kXrYNRBuCKja"
      },
      "source": [
        "import pandas as pd"
      ],
      "execution_count": null,
      "outputs": []
    },
    {
      "cell_type": "markdown",
      "metadata": {
        "id": "XtYZ7114n3b-"
      },
      "source": [
        "## Acessando os Dados\n",
        "\n",
        "Através de operações de `dict` e `list`"
      ]
    },
    {
      "cell_type": "code",
      "metadata": {
        "id": "_TFm7-looBFF"
      },
      "source": [
        "nome_cidade = pd.Series(['Campina Grande', 'Patos', 'Sousa'])\n",
        "populacao = pd.Series([399999, 1499999, 99777])\n",
        "\n",
        "df_city = pd.DataFrame({ 'Nome da Cidade': nome_cidade, 'População': populacao })\n",
        "df_city"
      ],
      "execution_count": null,
      "outputs": []
    },
    {
      "cell_type": "code",
      "metadata": {
        "id": "NoEC1bQOgceO"
      },
      "source": [
        "type(df_city['Nome da Cidade'])"
      ],
      "execution_count": null,
      "outputs": []
    },
    {
      "cell_type": "code",
      "metadata": {
        "id": "ucNJYle1gfXs"
      },
      "source": [
        "df_city['Nome da Cidade']"
      ],
      "execution_count": null,
      "outputs": []
    },
    {
      "cell_type": "code",
      "metadata": {
        "id": "V5L6xacLoxyv"
      },
      "source": [
        "type(df_city['Nome da Cidade'][1])"
      ],
      "execution_count": null,
      "outputs": []
    },
    {
      "cell_type": "code",
      "metadata": {
        "id": "3mJWrJ9Fg3xo"
      },
      "source": [
        "df_city['Nome da Cidade'][1]"
      ],
      "execution_count": null,
      "outputs": []
    },
    {
      "cell_type": "code",
      "metadata": {
        "id": "lxM6Ir0FhSkV"
      },
      "source": [
        "df_city[1]['Nome da Cidade'] # erro ?!"
      ],
      "execution_count": null,
      "outputs": []
    },
    {
      "cell_type": "code",
      "metadata": {
        "id": "RabYnfewhDsq"
      },
      "source": [
        "type(df_city[0:2])"
      ],
      "execution_count": null,
      "outputs": []
    },
    {
      "cell_type": "code",
      "metadata": {
        "id": "eYeu-A7ghDsy"
      },
      "source": [
        "df_city[0:2] # filtra as linhas, mantendo todas as colunas"
      ],
      "execution_count": null,
      "outputs": []
    },
    {
      "cell_type": "code",
      "metadata": {
        "id": "UPS_As08UTyZ"
      },
      "source": [
        "df_city[0:1][0:2] # o que acontece aqui?"
      ],
      "execution_count": null,
      "outputs": []
    },
    {
      "cell_type": "code",
      "metadata": {
        "id": "VHMbOKGEW5dM"
      },
      "source": [
        "df_city['Nome da Cidade'] # filtra as colunas, mantendo todas as linhas"
      ],
      "execution_count": null,
      "outputs": []
    },
    {
      "cell_type": "code",
      "metadata": {
        "id": "W5h-ebEiW-Y-"
      },
      "source": [
        "df_city[['Nome da Cidade', 'População']][0:2] # filtra as colunas, filtra as linhas"
      ],
      "execution_count": null,
      "outputs": []
    },
    {
      "cell_type": "code",
      "source": [
        "df_city[0:2][['Nome da Cidade', 'População']] # filtra as colunas, filtra as linhas (mesmo efeito do anterior)"
      ],
      "metadata": {
        "id": "TWBix-bVbAfX"
      },
      "execution_count": null,
      "outputs": []
    },
    {
      "cell_type": "markdown",
      "metadata": {
        "id": "Z7NfWhTPhvzb"
      },
      "source": [
        "#### **ATIVIDADE 6:** a função `value_counts()` só tem o parâmetro `bins` em `Series`, não tem em `DataFrame`. Escreva abaixo um código que processa o `DataFrame` `df_toy`, extraindo uma `Series` que corresponde a uma coluna com valores contínuos (apenas os 100 primeiros elementos da Serie) e aplique `value_counts()` com o parâmetro `bins` igual a 5 para ver o efeito.\n",
        "\n",
        "Mais informações sobre a função `value_counts()` em `Series` podem ser encontradas [aqui](https://pandas.pydata.org/docs/reference/api/pandas.Series.value_counts.html#pandas.Series.value_counts)."
      ]
    },
    {
      "cell_type": "code",
      "metadata": {
        "id": "JSgOlLnMbDau"
      },
      "source": [
        "# Caso precise realizar novamente o download e recarregar o dataframe toy_df, basta executar o código abaixo\n",
        "\n",
        "# Opção 1: caso queira ter o arquivo CSV disponível no sistema de arquivos\n",
        "# do Colab (que permanecerá disponível para esta sessão)\n",
        "#\n",
        "# !wget -O toy_dataset.csv \"https://docs.google.com/uc?export=download&id=1ArGT0_cisUUh3QXW9tYM39azFQZDUnow\"\n",
        "# df_toy = pd.read_csv('toy_dataset.csv')\n",
        "# df_toy\n",
        "\n",
        "# Opção 2\n",
        "# df_toy = pd.read_csv('https://docs.google.com/uc?export=download&id=1ArGT0_cisUUh3QXW9tYM39azFQZDUnow')\n",
        "# df_toy"
      ],
      "execution_count": null,
      "outputs": []
    },
    {
      "cell_type": "code",
      "metadata": {
        "id": "vlL0BRRCi6dy"
      },
      "source": [
        "# seu código aqui (solução da atividade)\n",
        "\n"
      ],
      "execution_count": null,
      "outputs": []
    },
    {
      "cell_type": "markdown",
      "metadata": {
        "id": "2JRZwS66fF8C"
      },
      "source": [
        "#### **ATIVIDADE 7:** Caso seus bins da questão anterior estejam desordenados. Escreva um código modificado que os exibe ordenados, para facilitar a análise.\n",
        "\n",
        "Saída esperada:\n",
        "\n",
        "```\n",
        "(16115.5, 26667.8]     6\n",
        "(26667.8, 37167.6]    21\n",
        "(37167.6, 47667.4]    27\n",
        "(47667.4, 58167.2]    36\n",
        "(58167.2, 68667.0]    10\n",
        "Name: Income, dtype: int64\n",
        "```\n",
        "\n",
        "Dica: busque na [documentação de Pandas Series](https://pandas.pydata.org/docs/reference/series.html) uma função que realiza a ordenação:\n"
      ]
    },
    {
      "cell_type": "code",
      "metadata": {
        "id": "kDgrOT7nfgQR"
      },
      "source": [
        "# seu código aqui\n",
        "\n"
      ],
      "execution_count": null,
      "outputs": []
    },
    {
      "cell_type": "markdown",
      "metadata": {
        "id": "zLASbthsrEBW"
      },
      "source": [
        "## Acessando com loc e iloc"
      ]
    },
    {
      "cell_type": "markdown",
      "metadata": {
        "id": "L2ENgetPscCF"
      },
      "source": [
        "Vamos criar um novo `data_frame`"
      ]
    },
    {
      "cell_type": "code",
      "metadata": {
        "id": "oF73zYZTrJJ-"
      },
      "source": [
        "data_clima = [\n",
        "              [25, 76.2, 1.0, 'Chuvoso'],\n",
        "              [27, 76.2, 0.1, 'Chuvoso'],\n",
        "              [28, 44.2, 1.1, 'Ensolarado'],\n",
        "              [27, 56.2, 0.25, 'Nublado'],\n",
        "              [23, 77.2, 1.1, 'Chuvoso']\n",
        "            ]\n",
        "\n",
        "df_clima = pd.DataFrame(data_clima,\n",
        "                       columns=['Temperatura','Umidade','Precipitacao', 'Tempo'],\n",
        "                       index=['Segunda-feira','Terça-feira','Quarta-feira', 'Quinta-feira', 'Sexta-feira']\n",
        "                       )\n",
        "df_clima"
      ],
      "execution_count": null,
      "outputs": []
    },
    {
      "cell_type": "code",
      "metadata": {
        "id": "dY5WS4PLtyrF"
      },
      "source": [
        "df_clima.loc['Segunda-feira']"
      ],
      "execution_count": null,
      "outputs": []
    },
    {
      "cell_type": "code",
      "metadata": {
        "id": "pzerw3osub75"
      },
      "source": [
        "type(df_clima.loc['Segunda-feira'])"
      ],
      "execution_count": null,
      "outputs": []
    },
    {
      "cell_type": "code",
      "metadata": {
        "id": "a0m0TdsGuKnL"
      },
      "source": [
        "df_clima.loc[0] #erro"
      ],
      "execution_count": null,
      "outputs": []
    },
    {
      "cell_type": "code",
      "metadata": {
        "id": "nPJzSIKKuTvP"
      },
      "source": [
        "df_clima.iloc[0] #OK"
      ],
      "execution_count": null,
      "outputs": []
    },
    {
      "cell_type": "code",
      "metadata": {
        "id": "XPchA_EFuhvA"
      },
      "source": [
        "type(df_clima.iloc[0])"
      ],
      "execution_count": null,
      "outputs": []
    },
    {
      "cell_type": "code",
      "metadata": {
        "id": "hKadYmjOvvVL"
      },
      "source": [
        "df_toy.loc[0] #erro ou OK?"
      ],
      "execution_count": null,
      "outputs": []
    },
    {
      "cell_type": "code",
      "metadata": {
        "id": "72_PUmpJv4W_"
      },
      "source": [
        "df_clima.loc[['Quinta-feira'], ['Umidade']]"
      ],
      "execution_count": null,
      "outputs": []
    },
    {
      "cell_type": "code",
      "metadata": {
        "id": "Ypvhh02uxvvn"
      },
      "source": [
        "df_clima.iloc[3, 1]"
      ],
      "execution_count": null,
      "outputs": []
    },
    {
      "cell_type": "code",
      "metadata": {
        "id": "P_fKIewo0CfJ"
      },
      "source": [
        "df_clima.loc[['Segunda-feira','Terça-feira','Quinta-feira']] # seleciona determinadas linhas"
      ],
      "execution_count": null,
      "outputs": []
    },
    {
      "cell_type": "code",
      "metadata": {
        "id": "-UhSFVe1yi96"
      },
      "source": [
        "df_clima.iloc[[0,1,3]] # seleciona determinadas linhas"
      ],
      "execution_count": null,
      "outputs": []
    },
    {
      "cell_type": "code",
      "metadata": {
        "id": "59zDteQs0n5z"
      },
      "source": [
        "df_clima.loc[['Segunda-feira','Terça-feira','Quinta-feira'],['Temperatura', 'Tempo']] # algumas linhas e algumas colunas"
      ],
      "execution_count": null,
      "outputs": []
    },
    {
      "cell_type": "code",
      "metadata": {
        "id": "h2y7y4LRy1RG"
      },
      "source": [
        "df_clima.iloc[[0,1,3],[0,3]] # algumas linhas e algumas colunas"
      ],
      "execution_count": null,
      "outputs": []
    },
    {
      "cell_type": "code",
      "metadata": {
        "id": "qMTFVIA41qwL"
      },
      "source": [
        "df_clima.iloc[:, 0] #todas as linhas de uma coluna"
      ],
      "execution_count": null,
      "outputs": []
    },
    {
      "cell_type": "code",
      "metadata": {
        "id": "IpKrEToq2SPM"
      },
      "source": [
        "df_clima.loc[:, ['Temperatura', 'Tempo']] #todas as linhas de determinadas colunas"
      ],
      "execution_count": null,
      "outputs": []
    },
    {
      "cell_type": "code",
      "metadata": {
        "id": "3SV7hCvX2IjI"
      },
      "source": [
        "df_clima.iloc[:, [0,2]] #todas as linhas de determinadas colunas"
      ],
      "execution_count": null,
      "outputs": []
    },
    {
      "cell_type": "markdown",
      "metadata": {
        "id": "uz-qjFbb3IiH"
      },
      "source": [
        "#### **ATIVIDADE 8:**\n",
        "\n",
        "(a) escreva um código para recuperar um df contendo as linhas segunda-feira e quarta-feira, com todas as colunas, utilizando `iloc`.\n",
        "\n",
        "(b) escreva um código equivalente usando `loc`."
      ]
    },
    {
      "cell_type": "code",
      "metadata": {
        "id": "R5cqzPRB2mer"
      },
      "source": [
        "# (a) seu código aqui\n",
        "\n"
      ],
      "execution_count": null,
      "outputs": []
    },
    {
      "cell_type": "code",
      "metadata": {
        "id": "1mzi0MiX2zrV"
      },
      "source": [
        "# (b) seu código aqui\n",
        "\n"
      ],
      "execution_count": null,
      "outputs": []
    },
    {
      "cell_type": "markdown",
      "metadata": {
        "id": "DlzRz_xw4o55"
      },
      "source": [
        "## Acessando com slice\n",
        "\n",
        "Formato start:stop:step"
      ]
    },
    {
      "cell_type": "code",
      "metadata": {
        "id": "7diM2ymM597k"
      },
      "source": [
        "# sem step\n",
        "linhas=[0,4]\n",
        "df_clima.iloc[linhas, 1:3]"
      ],
      "execution_count": null,
      "outputs": []
    },
    {
      "cell_type": "code",
      "metadata": {
        "id": "04EKmP3a6gcq"
      },
      "source": [
        "# com step nas linhas\n",
        "df_clima.iloc[0:5:2, 0:3]"
      ],
      "execution_count": null,
      "outputs": []
    },
    {
      "cell_type": "code",
      "metadata": {
        "id": "sn1oGlOwpYPA"
      },
      "source": [
        "# Usando labels (com .loc[])\n",
        "df_clima.loc['Segunda-feira':'Sexta-feira':2, 'Temperatura':'Umidade']"
      ],
      "execution_count": null,
      "outputs": []
    },
    {
      "cell_type": "markdown",
      "metadata": {
        "id": "xMtEPvEFxV5V"
      },
      "source": [
        "## Seleção com expressões booleanas"
      ]
    },
    {
      "cell_type": "code",
      "metadata": {
        "id": "rY0s7CK1xiH-"
      },
      "source": [
        "st = df_clima['Temperatura']\n",
        "st"
      ],
      "execution_count": null,
      "outputs": []
    },
    {
      "cell_type": "code",
      "metadata": {
        "id": "lUg2nh6RyN5_"
      },
      "source": [
        "st[st>26]"
      ],
      "execution_count": null,
      "outputs": []
    },
    {
      "cell_type": "code",
      "metadata": {
        "id": "RttzGo4ByY4k"
      },
      "source": [
        "df_clima2 = df_clima[['Temperatura', 'Umidade', 'Precipitacao']]\n",
        "df_clima2"
      ],
      "execution_count": null,
      "outputs": []
    },
    {
      "cell_type": "code",
      "metadata": {
        "id": "ghArtU3G0fzv"
      },
      "source": [
        "df_clima2[df_clima2 > 1]"
      ],
      "execution_count": null,
      "outputs": []
    },
    {
      "cell_type": "code",
      "metadata": {
        "id": "vXGoMBd50tqO"
      },
      "source": [
        "df_clima2[df_clima2['Temperatura'] > 26]"
      ],
      "execution_count": null,
      "outputs": []
    },
    {
      "cell_type": "code",
      "metadata": {
        "id": "-qL5OwsN03zT"
      },
      "source": [
        "df_clima2[(df_clima2['Temperatura'] > 26) & (df_clima2['Precipitacao'] < 1)] # erro se não usar parênteses"
      ],
      "execution_count": null,
      "outputs": []
    },
    {
      "cell_type": "code",
      "metadata": {
        "id": "8QYvEQt415CZ"
      },
      "source": [
        "df_clima2.query('Temperatura > 26 & Precipitacao < 1')"
      ],
      "execution_count": null,
      "outputs": []
    },
    {
      "cell_type": "code",
      "metadata": {
        "id": "5nsOLL7A29Mv"
      },
      "source": [
        "df_clima[df_clima['Tempo'] == 'Nublado']['Temperatura']"
      ],
      "execution_count": null,
      "outputs": []
    },
    {
      "cell_type": "code",
      "metadata": {
        "id": "M5d4jdjV3hnq"
      },
      "source": [
        "df_clima['Temperatura'][df_clima['Tempo'] == 'Nublado']"
      ],
      "execution_count": null,
      "outputs": []
    },
    {
      "cell_type": "code",
      "metadata": {
        "id": "OACmJaNT3xV3"
      },
      "source": [
        "df_clima[df_clima['Tempo'].str.startswith('C')]"
      ],
      "execution_count": null,
      "outputs": []
    },
    {
      "cell_type": "code",
      "metadata": {
        "id": "xZcnMP784Kdy"
      },
      "source": [
        "df_clima[df_clima['Tempo'].isin(['Chuvoso', 'Ensolarado'])]"
      ],
      "execution_count": null,
      "outputs": []
    },
    {
      "cell_type": "markdown",
      "metadata": {
        "id": "Xt9bO0oe5TBW"
      },
      "source": [
        "#### **ATIVIDADE 9:**\n",
        "\n",
        "Faça filtragem no `df_clima` de forma a retornar a Umidade de todos os registros cuja Temperatura seja 23, 27 ou 28; e o Tempo comece com 'C'."
      ]
    },
    {
      "cell_type": "code",
      "metadata": {
        "id": "CtyCsHlU5rjh"
      },
      "source": [
        "# seu código aqui\n",
        "\n"
      ],
      "execution_count": null,
      "outputs": []
    },
    {
      "cell_type": "markdown",
      "metadata": {
        "id": "iIA2W7cl7Z7a"
      },
      "source": [
        "## Manipulação de Linhas e Colunas (Adição, Remoção, etc)"
      ]
    },
    {
      "cell_type": "code",
      "metadata": {
        "id": "kATZbDFj7jtX"
      },
      "source": [
        "# criando o data frame\n",
        "\n",
        "d = {'primeira coluna' : pd.Series([11, 22, 32], index=['a', 'b', 'c']),\n",
        "   'segunda coluna' : pd.Series([11, 22, 33, 44], index=['a', 'b', 'c', 'd'])}\n",
        "\n",
        "df = pd.DataFrame(d)"
      ],
      "execution_count": null,
      "outputs": []
    },
    {
      "cell_type": "code",
      "metadata": {
        "id": "6C6Zm9Dv7uQN"
      },
      "source": [
        "# adicionando nova coluna\n",
        "df['terceira coluna']=pd.Series([100,200,300],index=['a','b','c'])\n",
        "df"
      ],
      "execution_count": null,
      "outputs": []
    },
    {
      "cell_type": "code",
      "metadata": {
        "id": "tq9sJDxY7syp"
      },
      "source": [
        "# criando coluna a partir de outras existentes\n",
        "\n",
        "df['quarta coluna'] = df['primeira coluna'] + df['terceira coluna']\n",
        "df"
      ],
      "execution_count": null,
      "outputs": []
    },
    {
      "cell_type": "code",
      "metadata": {
        "id": "5YwZph6w9MSY"
      },
      "source": [
        "# removendo uma coluna\n",
        "\n",
        "df.pop('quarta coluna')\n",
        "df"
      ],
      "execution_count": null,
      "outputs": []
    },
    {
      "cell_type": "code",
      "metadata": {
        "id": "IxxhaErO-q-C"
      },
      "source": [
        "df.drop('a')"
      ],
      "execution_count": null,
      "outputs": []
    },
    {
      "cell_type": "code",
      "metadata": {
        "id": "2_w-TgEF_O1N"
      },
      "source": [
        "df # o que aconteceu ?"
      ],
      "execution_count": null,
      "outputs": []
    },
    {
      "cell_type": "code",
      "metadata": {
        "id": "tmsrEIxY_bUJ"
      },
      "source": [
        "# drop também pode ser usado para colunas\n",
        "df = df.drop('segunda coluna', axis=1)\n",
        "df"
      ],
      "execution_count": null,
      "outputs": []
    },
    {
      "cell_type": "code",
      "metadata": {
        "id": "BEffD1RHAPfk"
      },
      "source": [
        "df2 = pd.DataFrame([[50, 60], [70, 80]], columns = ['primeira coluna','terceira coluna'])\n",
        "df = df.append(df2)\n",
        "df"
      ],
      "execution_count": null,
      "outputs": []
    },
    {
      "cell_type": "code",
      "metadata": {
        "id": "blI34f25Abmc"
      },
      "source": [
        "df2 = pd.DataFrame([[90, 99], [66, 88]], columns = ['primeira coluna','segunda coluna'])\n",
        "df = df.append(df2)\n",
        "df"
      ],
      "execution_count": null,
      "outputs": []
    },
    {
      "cell_type": "markdown",
      "metadata": {
        "id": "PWxjZlBaCuY5"
      },
      "source": [
        "####**ATIVIDADE 10:**\n",
        "\n",
        "O dataframe da célula anterior ficou com as colunas bagunçadas (primeira/terceira/segunda).\n",
        "\n",
        "a) Reorganize as colunas.\n",
        "\n",
        "b) O índice das linhas também ficaram bagunçados! Reorganize-os também para ficar com numeração 0,1,2,...,n. Dica: use o método reset_index(). Depois de usar o método, veja se o dataframe ficou da forma que você esperava. Se não tiver ficado, ajuste-o."
      ]
    },
    {
      "cell_type": "code",
      "metadata": {
        "id": "LyFSVE30BULS"
      },
      "source": [
        "# a) seu código aqui\n",
        "\n"
      ],
      "execution_count": null,
      "outputs": []
    },
    {
      "cell_type": "code",
      "metadata": {
        "id": "z0s1nnukFv3g"
      },
      "source": [
        "# b) seu código aqui\n",
        "\n"
      ],
      "execution_count": null,
      "outputs": []
    },
    {
      "cell_type": "markdown",
      "metadata": {
        "id": "65g1ZdGVjXsQ"
      },
      "source": [
        "Isso é só um pouquinho do que o Pandas oferece no que se trata de indexação e seleção. A API do pandas é muito vasta em relação a isso.\n",
        "Para mais informações, [veja aqui](https://pandas.pydata.org/pandas-docs/stable/user_guide/indexing.html)."
      ]
    }
  ]
}