{
  "nbformat": 4,
  "nbformat_minor": 0,
  "metadata": {
    "colab": {
      "provenance": [],
      "collapsed_sections": [
        "rHLcriKWLRe4",
        "0eDvqelTCQA6",
        "s_JOISVgmn9v",
        "g0FyCV28-CsQ",
        "U5ouUp1cU6pC",
        "wJRwnuZvN3l1",
        "p2FO1FUuFs0a",
        "oa5wfZT7VHJl",
        "qbK66AacIOvG",
        "c3KkOoy_AGsd",
        "U9oQmlSDAXbH",
        "WrkBjfz5kEQu",
        "kEbZD6bPOpDF",
        "OcT56OtpOqCP",
        "OTmz09YQeaOa",
        "w9-Es5Y6laGd",
        "6IusPhPzLJa_",
        "pebfmJqOH7ZO",
        "ty8D86YUnrt7"
      ]
    },
    "kernelspec": {
      "name": "python3",
      "display_name": "Python 3"
    }
  },
  "cells": [
    {
      "cell_type": "markdown",
      "metadata": {
        "id": "rHLcriKWLRe4"
      },
      "source": [
        "# Introdução ao Pandas (Parte 1)"
      ]
    },
    {
      "cell_type": "markdown",
      "metadata": {
        "id": "0eDvqelTCQA6"
      },
      "source": [
        "## Imports"
      ]
    },
    {
      "cell_type": "code",
      "metadata": {
        "id": "kXrYNRBuCKja"
      },
      "source": [
        "import pandas as pd"
      ],
      "execution_count": null,
      "outputs": []
    },
    {
      "cell_type": "markdown",
      "metadata": {
        "id": "s_JOISVgmn9v"
      },
      "source": [
        "## Estruturas Básicas"
      ]
    },
    {
      "cell_type": "markdown",
      "metadata": {
        "id": "daQreKXIUslr"
      },
      "source": [
        "  * **`DataFrame`**: uma matriz / tabela, com linhas e colunas.\n",
        "  * **`Series`**: um vetor representando uma coluna. Um DataFrame pode conter uma ou várias Series, com seus respectivos nomes."
      ]
    },
    {
      "cell_type": "markdown",
      "metadata": {
        "id": "g0FyCV28-CsQ"
      },
      "source": [
        "#### Criando uma `Series` a partir de uma `list`\n",
        "\n"
      ]
    },
    {
      "cell_type": "code",
      "metadata": {
        "id": "DFZ42Uq7UFDj"
      },
      "source": [
        "s = pd.Series(['Campina Grande', 'Patos', 'Sousa'])\n",
        "s"
      ],
      "execution_count": null,
      "outputs": []
    },
    {
      "cell_type": "markdown",
      "metadata": {
        "id": "U5ouUp1cU6pC"
      },
      "source": [
        "#### Criando um `DataFrame` a partir de um `dict` que mapeia `string` (nomes de colunas) às repectivas `Series`.\n",
        "\n",
        "Se os comprimentos não coincidem, as células são preechidas com [NA/NaN](http://pandas.pydata.org/pandas-docs/stable/missing_data.html)"
      ]
    },
    {
      "cell_type": "code",
      "metadata": {
        "id": "avgr6GfiUh8t"
      },
      "source": [
        "nome_cidade = pd.Series(['Campina Grande', 'Patos', 'Sousa'])\n",
        "populacao = pd.Series([399999, 1499999, 99777])\n",
        "\n",
        "df_city = pd.DataFrame({ 'Nome da Cidade': nome_cidade, 'População': populacao })\n",
        "df_city"
      ],
      "execution_count": null,
      "outputs": []
    },
    {
      "cell_type": "markdown",
      "metadata": {
        "id": "wJRwnuZvN3l1"
      },
      "source": [
        "#### Verificando / alterando os tipos de dados"
      ]
    },
    {
      "cell_type": "code",
      "metadata": {
        "id": "c42BKZnCMlOl"
      },
      "source": [
        "df_city.dtypes"
      ],
      "execution_count": null,
      "outputs": []
    },
    {
      "cell_type": "markdown",
      "metadata": {
        "id": "Zxg0OXbgMygk"
      },
      "source": [
        "Usamos a função astype para mudar os tipos do `DataFrame`inteiro ou de `Series`específicas. Exemplos [neste link](https://pandas.pydata.org/docs/reference/api/pandas.DataFrame.astype.html)."
      ]
    },
    {
      "cell_type": "markdown",
      "metadata": {
        "id": "p2FO1FUuFs0a"
      },
      "source": [
        "#### É possível criar Dataframes de várias outras formas. Também é possível definir outros tipos de índices. Veja exemplos [aqui](https://www.tutorialspoint.com/python_pandas/python_pandas_dataframe.htm).\n",
        "\n",
        "#### **ATIVIDADE 1:** Crie um pequeno `DataFrame` (e imprima) utilizando outra estratégia (e.g., lista de listas, `dict` de string para lista) e definindo outros índices."
      ]
    },
    {
      "cell_type": "code",
      "metadata": {
        "id": "gx6QqM_ZGA8m"
      },
      "source": [
        "# seu código aqui\n"
      ],
      "execution_count": null,
      "outputs": []
    },
    {
      "cell_type": "markdown",
      "metadata": {
        "id": "oa5wfZT7VHJl"
      },
      "source": [
        "#### Criando um `DataFrame` a partir de um arquivo CSV (é o que é mais frequentemente realizado)\n",
        "\n",
        "A descrição do dataset que vamos baixar pode ser vista [aqui](https://www.kaggle.com/camnugent/california-housing-prices)."
      ]
    },
    {
      "cell_type": "code",
      "metadata": {
        "id": "av6RYOraVG1V"
      },
      "source": [
        "df_housing = pd.read_csv(\"https://download.mlcc.google.com/mledu-datasets/california_housing_train.csv\", sep=\",\")\n",
        "df_housing"
      ],
      "execution_count": null,
      "outputs": []
    },
    {
      "cell_type": "code",
      "metadata": {
        "id": "RJrkWw3CMZES"
      },
      "source": [
        "df_housing.shape"
      ],
      "execution_count": null,
      "outputs": []
    },
    {
      "cell_type": "code",
      "metadata": {
        "id": "8JcZsdlhMcog"
      },
      "source": [
        "df_housing.dtypes"
      ],
      "execution_count": null,
      "outputs": []
    },
    {
      "cell_type": "markdown",
      "metadata": {
        "id": "qbK66AacIOvG"
      },
      "source": [
        "## Funções Úteis"
      ]
    },
    {
      "cell_type": "markdown",
      "metadata": {
        "id": "c3KkOoy_AGsd"
      },
      "source": [
        "#### Função `head()`"
      ]
    },
    {
      "cell_type": "code",
      "metadata": {
        "id": "Uhrbl4C-_8vD"
      },
      "source": [
        "df_housing.head()"
      ],
      "execution_count": null,
      "outputs": []
    },
    {
      "cell_type": "markdown",
      "metadata": {
        "id": "U9oQmlSDAXbH"
      },
      "source": [
        "#### **ATIVIDADE 2:** Use a função head passando um valor inteiro como parâmetro."
      ]
    },
    {
      "cell_type": "code",
      "metadata": {
        "id": "_BtkhHJQAU8j"
      },
      "source": [
        "# seu código aqui\n"
      ],
      "execution_count": null,
      "outputs": []
    },
    {
      "cell_type": "markdown",
      "metadata": {
        "id": "WrkBjfz5kEQu"
      },
      "source": [
        "#### Função `describe()`"
      ]
    },
    {
      "cell_type": "code",
      "metadata": {
        "id": "s3ND3bgOkB5k"
      },
      "source": [
        "df_housing.describe()"
      ],
      "execution_count": null,
      "outputs": []
    },
    {
      "cell_type": "markdown",
      "metadata": {
        "id": "kEbZD6bPOpDF"
      },
      "source": [
        "#### Função `value_counts()`"
      ]
    },
    {
      "cell_type": "markdown",
      "metadata": {
        "id": "EntDs7RyWtq8"
      },
      "source": [
        "Primeiro, vamos carregar um novo dataset (Toy Dataset).\n",
        "\n",
        "Baixe o CSV [neste link](https://drive.google.com/file/d/1ArGT0_cisUUh3QXW9tYM39azFQZDUnow/view?usp=sharing) e depois faça upload para o sistema de arquivos aqui do Colab (estes arquivos só ficam disponíveis na sessão atual).\n",
        "\n",
        "Informações sobre o dataset [neste link](https://www.kaggle.com/carlolepelaars/toy-dataset)."
      ]
    },
    {
      "cell_type": "code",
      "source": [
        "# Se preferir, execute um dos códigos abaixo para fazer o download diretamente aqui (basta remover o comentário e executar)\n",
        "\n",
        "# Opção 1: caso queira ter o arquivo CSV disponível no sistema de arquivos\n",
        "# do Colab (que permanecerá disponível para esta sessão)\n",
        "#\n",
        "# !wget -O toy_dataset.csv \"https://docs.google.com/uc?export=download&id=1ArGT0_cisUUh3QXW9tYM39azFQZDUnow\"\n",
        "# df_toy = pd.read_csv('toy_dataset.csv')\n",
        "# df_toy\n",
        "\n",
        "# Opção 2\n",
        "# df_toy = pd.read_csv('https://docs.google.com/uc?export=download&id=1ArGT0_cisUUh3QXW9tYM39azFQZDUnow')\n",
        "# df_toy"
      ],
      "metadata": {
        "id": "qNkP4q74wvOf"
      },
      "execution_count": null,
      "outputs": []
    },
    {
      "cell_type": "code",
      "metadata": {
        "id": "sdDBnkGwStt_"
      },
      "source": [
        "# este trecho não precisa ser executado caso tenha sido executada a Opção 2 acima\n",
        "df_toy = pd.read_csv('toy_dataset.csv')\n",
        "df_toy"
      ],
      "execution_count": null,
      "outputs": []
    },
    {
      "cell_type": "markdown",
      "metadata": {
        "id": "yY-vKw5bXlcd"
      },
      "source": [
        "Executando a função `value_counts()` para uma coluna"
      ]
    },
    {
      "cell_type": "code",
      "metadata": {
        "id": "tW1CFD4-TArM"
      },
      "source": [
        "df_toy.value_counts('Age')"
      ],
      "execution_count": null,
      "outputs": []
    },
    {
      "cell_type": "markdown",
      "metadata": {
        "id": "OcT56OtpOqCP"
      },
      "source": [
        "#### **ATIVIDADE 3:**\n",
        "\n",
        "a) Execute a função sem especificar nenhuma coluna e observe que não tem muita utilidade (as contagens são 1). Em seguida, execute a função para algum par de atributos que produzam valores úteis de contagem (valores diferentes de 1)."
      ]
    },
    {
      "cell_type": "code",
      "metadata": {
        "id": "cEdMzmVyYQgu"
      },
      "source": [
        "# seu código aqui\n"
      ],
      "execution_count": null,
      "outputs": []
    },
    {
      "cell_type": "markdown",
      "metadata": {
        "id": "Q8orMZdefCzC"
      },
      "source": [
        "Mais detalhes sobre a função `value_counts()` [aqui](https://pandas.pydata.org/docs/reference/api/pandas.DataFrame.value_counts.html)."
      ]
    },
    {
      "cell_type": "markdown",
      "metadata": {
        "id": "OTmz09YQeaOa"
      },
      "source": [
        "#### Contando os NaN"
      ]
    },
    {
      "cell_type": "code",
      "metadata": {
        "id": "kgPq6UCcd2gD"
      },
      "source": [
        "df_toy.isna().sum()"
      ],
      "execution_count": null,
      "outputs": []
    },
    {
      "cell_type": "markdown",
      "metadata": {
        "id": "w9-Es5Y6laGd"
      },
      "source": [
        "## Plotando gráficos"
      ]
    },
    {
      "cell_type": "markdown",
      "metadata": {
        "id": "6IusPhPzLJa_"
      },
      "source": [
        "#### Histograma (mais detalhes [aqui](https://pandas.pydata.org/docs/reference/api/pandas.DataFrame.hist.html))"
      ]
    },
    {
      "cell_type": "code",
      "metadata": {
        "id": "VJIEOXwmWpSW"
      },
      "source": [
        "df_toy.hist(['Age'])"
      ],
      "execution_count": null,
      "outputs": []
    },
    {
      "cell_type": "markdown",
      "metadata": {
        "id": "pebfmJqOH7ZO"
      },
      "source": [
        "#### **ATIVIDADE 4:** Execute a função passando uma lista de nomes de colunas e um valor para o parâmetro bins."
      ]
    },
    {
      "cell_type": "code",
      "metadata": {
        "id": "nqndFVXVlbPN"
      },
      "source": [
        "# seu código aqui\n"
      ],
      "execution_count": null,
      "outputs": []
    },
    {
      "cell_type": "markdown",
      "metadata": {
        "id": "ty8D86YUnrt7"
      },
      "source": [
        "#### **ATIVIDADE 5:** Plote um histograma para a coluna `Age` do `DataFrame` `df_toy`, onde o número de bins é o total de idades diferentes existentes no dataset."
      ]
    },
    {
      "cell_type": "code",
      "metadata": {
        "id": "zetzIZN4Iovv"
      },
      "source": [
        "# seu código aqui\n",
        "\n"
      ],
      "execution_count": null,
      "outputs": []
    }
  ]
}